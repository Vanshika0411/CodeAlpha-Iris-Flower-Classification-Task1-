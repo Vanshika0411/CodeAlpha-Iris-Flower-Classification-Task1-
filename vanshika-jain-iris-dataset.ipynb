{
 "cells": [
  {
   "cell_type": "code",
   "execution_count": 1,
   "id": "95ca445d",
   "metadata": {
    "_cell_guid": "b1076dfc-b9ad-4769-8c92-a6c4dae69d19",
    "_uuid": "8f2839f25d086af736a60e9eeb907d3b93b6e0e5",
    "execution": {
     "iopub.execute_input": "2025-06-10T12:58:38.695187Z",
     "iopub.status.busy": "2025-06-10T12:58:38.694866Z",
     "iopub.status.idle": "2025-06-10T12:58:39.589366Z",
     "shell.execute_reply": "2025-06-10T12:58:39.588152Z"
    },
    "executionInfo": {
     "elapsed": 1782,
     "status": "ok",
     "timestamp": 1736752412323,
     "user": {
      "displayName": "Vennela Varshini Anasoori",
      "userId": "09009623952450601285"
     },
     "user_tz": -330
    },
    "id": "NTWoYoXQgdJV",
    "papermill": {
     "duration": 0.903436,
     "end_time": "2025-06-10T12:58:39.591380",
     "exception": false,
     "start_time": "2025-06-10T12:58:38.687944",
     "status": "completed"
    },
    "tags": []
   },
   "outputs": [],
   "source": [
    "# This Python 3 environment comes with many helpful analytics libraries installed\n",
    "# It is defined by the kaggle/python Docker image: https://github.com/kaggle/docker-python\n",
    "# For example, here's several helpful packages to load\n",
    "\n",
    "import numpy as np # linear algebra\n",
    "import pandas as pd # data processing, CSV file I/O (e.g. pd.read_csv)\n",
    "\n",
    "# Input data files are available in the read-only \"../input/\" directory\n",
    "# For example, running this (by clicking run or pressing Shift+Enter) will list all files under the input directory\n",
    "\n",
    "#import os\n",
    "#for dirname, _, filenames in os.walk('/kaggle/input'):\n",
    "#   for filename in filenames:\n",
    "#       print(os.path.join(dirname, filename))\n",
    "\n",
    "# You can write up to 20GB to the current directory (/kaggle/working/) that gets preserved as output when you create a version using \"Save & Run All\"\n",
    "# You can also write temporary files to /kaggle/temp/, but they won't be saved outside of the current session"
   ]
  },
  {
   "cell_type": "code",
   "execution_count": 2,
   "id": "31d8c5ed",
   "metadata": {
    "execution": {
     "iopub.execute_input": "2025-06-10T12:58:39.602678Z",
     "iopub.status.busy": "2025-06-10T12:58:39.602228Z",
     "iopub.status.idle": "2025-06-10T12:58:39.624647Z",
     "shell.execute_reply": "2025-06-10T12:58:39.623844Z"
    },
    "executionInfo": {
     "elapsed": 534,
     "status": "ok",
     "timestamp": 1736752422284,
     "user": {
      "displayName": "Vennela Varshini Anasoori",
      "userId": "09009623952450601285"
     },
     "user_tz": -330
    },
    "id": "z_2qs1VPgdJY",
    "papermill": {
     "duration": 0.029677,
     "end_time": "2025-06-10T12:58:39.626358",
     "exception": false,
     "start_time": "2025-06-10T12:58:39.596681",
     "status": "completed"
    },
    "tags": []
   },
   "outputs": [],
   "source": [
    "df = pd.read_csv('/kaggle/input/iriscsv/Iris.csv')"
   ]
  },
  {
   "cell_type": "code",
   "execution_count": 3,
   "id": "703abc70",
   "metadata": {
    "execution": {
     "iopub.execute_input": "2025-06-10T12:58:39.637293Z",
     "iopub.status.busy": "2025-06-10T12:58:39.636991Z",
     "iopub.status.idle": "2025-06-10T12:58:39.665745Z",
     "shell.execute_reply": "2025-06-10T12:58:39.664740Z"
    },
    "executionInfo": {
     "elapsed": 568,
     "status": "ok",
     "timestamp": 1736752424944,
     "user": {
      "displayName": "Vennela Varshini Anasoori",
      "userId": "09009623952450601285"
     },
     "user_tz": -330
    },
    "id": "RKozaUKigdJY",
    "outputId": "55d94b8f-8b71-40e1-a413-3e4ef5f13b9f",
    "papermill": {
     "duration": 0.035929,
     "end_time": "2025-06-10T12:58:39.667324",
     "exception": false,
     "start_time": "2025-06-10T12:58:39.631395",
     "status": "completed"
    },
    "tags": []
   },
   "outputs": [
    {
     "data": {
      "text/html": [
       "<div>\n",
       "<style scoped>\n",
       "    .dataframe tbody tr th:only-of-type {\n",
       "        vertical-align: middle;\n",
       "    }\n",
       "\n",
       "    .dataframe tbody tr th {\n",
       "        vertical-align: top;\n",
       "    }\n",
       "\n",
       "    .dataframe thead th {\n",
       "        text-align: right;\n",
       "    }\n",
       "</style>\n",
       "<table border=\"1\" class=\"dataframe\">\n",
       "  <thead>\n",
       "    <tr style=\"text-align: right;\">\n",
       "      <th></th>\n",
       "      <th>Id</th>\n",
       "      <th>SepalLengthCm</th>\n",
       "      <th>SepalWidthCm</th>\n",
       "      <th>PetalLengthCm</th>\n",
       "      <th>PetalWidthCm</th>\n",
       "      <th>Species</th>\n",
       "    </tr>\n",
       "  </thead>\n",
       "  <tbody>\n",
       "    <tr>\n",
       "      <th>0</th>\n",
       "      <td>1</td>\n",
       "      <td>5.1</td>\n",
       "      <td>3.5</td>\n",
       "      <td>1.4</td>\n",
       "      <td>0.2</td>\n",
       "      <td>Iris-setosa</td>\n",
       "    </tr>\n",
       "    <tr>\n",
       "      <th>1</th>\n",
       "      <td>2</td>\n",
       "      <td>4.9</td>\n",
       "      <td>3.0</td>\n",
       "      <td>1.4</td>\n",
       "      <td>0.2</td>\n",
       "      <td>Iris-setosa</td>\n",
       "    </tr>\n",
       "    <tr>\n",
       "      <th>2</th>\n",
       "      <td>3</td>\n",
       "      <td>4.7</td>\n",
       "      <td>3.2</td>\n",
       "      <td>1.3</td>\n",
       "      <td>0.2</td>\n",
       "      <td>Iris-setosa</td>\n",
       "    </tr>\n",
       "    <tr>\n",
       "      <th>3</th>\n",
       "      <td>4</td>\n",
       "      <td>4.6</td>\n",
       "      <td>3.1</td>\n",
       "      <td>1.5</td>\n",
       "      <td>0.2</td>\n",
       "      <td>Iris-setosa</td>\n",
       "    </tr>\n",
       "    <tr>\n",
       "      <th>4</th>\n",
       "      <td>5</td>\n",
       "      <td>5.0</td>\n",
       "      <td>3.6</td>\n",
       "      <td>1.4</td>\n",
       "      <td>0.2</td>\n",
       "      <td>Iris-setosa</td>\n",
       "    </tr>\n",
       "  </tbody>\n",
       "</table>\n",
       "</div>"
      ],
      "text/plain": [
       "   Id  SepalLengthCm  SepalWidthCm  PetalLengthCm  PetalWidthCm      Species\n",
       "0   1            5.1           3.5            1.4           0.2  Iris-setosa\n",
       "1   2            4.9           3.0            1.4           0.2  Iris-setosa\n",
       "2   3            4.7           3.2            1.3           0.2  Iris-setosa\n",
       "3   4            4.6           3.1            1.5           0.2  Iris-setosa\n",
       "4   5            5.0           3.6            1.4           0.2  Iris-setosa"
      ]
     },
     "execution_count": 3,
     "metadata": {},
     "output_type": "execute_result"
    }
   ],
   "source": [
    "df.head()"
   ]
  },
  {
   "cell_type": "code",
   "execution_count": 4,
   "id": "2393419d",
   "metadata": {
    "execution": {
     "iopub.execute_input": "2025-06-10T12:58:39.679163Z",
     "iopub.status.busy": "2025-06-10T12:58:39.678851Z",
     "iopub.status.idle": "2025-06-10T12:58:40.940302Z",
     "shell.execute_reply": "2025-06-10T12:58:40.939320Z"
    },
    "executionInfo": {
     "elapsed": 2649,
     "status": "ok",
     "timestamp": 1736752457577,
     "user": {
      "displayName": "Vennela Varshini Anasoori",
      "userId": "09009623952450601285"
     },
     "user_tz": -330
    },
    "id": "WYmhoxy-gdJa",
    "papermill": {
     "duration": 1.269017,
     "end_time": "2025-06-10T12:58:40.942145",
     "exception": false,
     "start_time": "2025-06-10T12:58:39.673128",
     "status": "completed"
    },
    "tags": []
   },
   "outputs": [],
   "source": [
    "from sklearn.preprocessing import LabelEncoder\n",
    "encoder = LabelEncoder()\n",
    "df['Species'] = encoder.fit_transform(df['Species'])"
   ]
  },
  {
   "cell_type": "code",
   "execution_count": 5,
   "id": "819e3029",
   "metadata": {
    "execution": {
     "iopub.execute_input": "2025-06-10T12:58:40.954040Z",
     "iopub.status.busy": "2025-06-10T12:58:40.953490Z",
     "iopub.status.idle": "2025-06-10T12:58:40.965567Z",
     "shell.execute_reply": "2025-06-10T12:58:40.964579Z"
    },
    "executionInfo": {
     "elapsed": 11,
     "status": "ok",
     "timestamp": 1736752457578,
     "user": {
      "displayName": "Vennela Varshini Anasoori",
      "userId": "09009623952450601285"
     },
     "user_tz": -330
    },
    "id": "9jk4VYydgdJa",
    "outputId": "e74a6926-088d-40fd-9270-b3e7d1ce8e75",
    "papermill": {
     "duration": 0.019644,
     "end_time": "2025-06-10T12:58:40.967169",
     "exception": false,
     "start_time": "2025-06-10T12:58:40.947525",
     "status": "completed"
    },
    "tags": []
   },
   "outputs": [
    {
     "data": {
      "text/html": [
       "<div>\n",
       "<style scoped>\n",
       "    .dataframe tbody tr th:only-of-type {\n",
       "        vertical-align: middle;\n",
       "    }\n",
       "\n",
       "    .dataframe tbody tr th {\n",
       "        vertical-align: top;\n",
       "    }\n",
       "\n",
       "    .dataframe thead th {\n",
       "        text-align: right;\n",
       "    }\n",
       "</style>\n",
       "<table border=\"1\" class=\"dataframe\">\n",
       "  <thead>\n",
       "    <tr style=\"text-align: right;\">\n",
       "      <th></th>\n",
       "      <th>Id</th>\n",
       "      <th>SepalLengthCm</th>\n",
       "      <th>SepalWidthCm</th>\n",
       "      <th>PetalLengthCm</th>\n",
       "      <th>PetalWidthCm</th>\n",
       "      <th>Species</th>\n",
       "    </tr>\n",
       "  </thead>\n",
       "  <tbody>\n",
       "    <tr>\n",
       "      <th>0</th>\n",
       "      <td>1</td>\n",
       "      <td>5.1</td>\n",
       "      <td>3.5</td>\n",
       "      <td>1.4</td>\n",
       "      <td>0.2</td>\n",
       "      <td>0</td>\n",
       "    </tr>\n",
       "    <tr>\n",
       "      <th>1</th>\n",
       "      <td>2</td>\n",
       "      <td>4.9</td>\n",
       "      <td>3.0</td>\n",
       "      <td>1.4</td>\n",
       "      <td>0.2</td>\n",
       "      <td>0</td>\n",
       "    </tr>\n",
       "    <tr>\n",
       "      <th>2</th>\n",
       "      <td>3</td>\n",
       "      <td>4.7</td>\n",
       "      <td>3.2</td>\n",
       "      <td>1.3</td>\n",
       "      <td>0.2</td>\n",
       "      <td>0</td>\n",
       "    </tr>\n",
       "    <tr>\n",
       "      <th>3</th>\n",
       "      <td>4</td>\n",
       "      <td>4.6</td>\n",
       "      <td>3.1</td>\n",
       "      <td>1.5</td>\n",
       "      <td>0.2</td>\n",
       "      <td>0</td>\n",
       "    </tr>\n",
       "    <tr>\n",
       "      <th>4</th>\n",
       "      <td>5</td>\n",
       "      <td>5.0</td>\n",
       "      <td>3.6</td>\n",
       "      <td>1.4</td>\n",
       "      <td>0.2</td>\n",
       "      <td>0</td>\n",
       "    </tr>\n",
       "  </tbody>\n",
       "</table>\n",
       "</div>"
      ],
      "text/plain": [
       "   Id  SepalLengthCm  SepalWidthCm  PetalLengthCm  PetalWidthCm  Species\n",
       "0   1            5.1           3.5            1.4           0.2        0\n",
       "1   2            4.9           3.0            1.4           0.2        0\n",
       "2   3            4.7           3.2            1.3           0.2        0\n",
       "3   4            4.6           3.1            1.5           0.2        0\n",
       "4   5            5.0           3.6            1.4           0.2        0"
      ]
     },
     "execution_count": 5,
     "metadata": {},
     "output_type": "execute_result"
    }
   ],
   "source": [
    "df.head()"
   ]
  },
  {
   "cell_type": "code",
   "execution_count": 6,
   "id": "f0a07a6a",
   "metadata": {
    "execution": {
     "iopub.execute_input": "2025-06-10T12:58:40.979374Z",
     "iopub.status.busy": "2025-06-10T12:58:40.979058Z",
     "iopub.status.idle": "2025-06-10T12:58:41.088693Z",
     "shell.execute_reply": "2025-06-10T12:58:41.087837Z"
    },
    "executionInfo": {
     "elapsed": 480,
     "status": "ok",
     "timestamp": 1736752459912,
     "user": {
      "displayName": "Vennela Varshini Anasoori",
      "userId": "09009623952450601285"
     },
     "user_tz": -330
    },
    "id": "nAGr1-ctgdJb",
    "papermill": {
     "duration": 0.117586,
     "end_time": "2025-06-10T12:58:41.090617",
     "exception": false,
     "start_time": "2025-06-10T12:58:40.973031",
     "status": "completed"
    },
    "tags": []
   },
   "outputs": [],
   "source": [
    "from sklearn.model_selection import train_test_split\n",
    "X_train,X_test,y_train,y_test = train_test_split(df.iloc[:,0:-1],df.iloc[:,-1],test_size=0.2,random_state=1)"
   ]
  },
  {
   "cell_type": "code",
   "execution_count": 7,
   "id": "38df83cc",
   "metadata": {
    "execution": {
     "iopub.execute_input": "2025-06-10T12:58:41.102700Z",
     "iopub.status.busy": "2025-06-10T12:58:41.102354Z",
     "iopub.status.idle": "2025-06-10T12:58:41.395701Z",
     "shell.execute_reply": "2025-06-10T12:58:41.394793Z"
    },
    "executionInfo": {
     "elapsed": 810,
     "status": "ok",
     "timestamp": 1736752461825,
     "user": {
      "displayName": "Vennela Varshini Anasoori",
      "userId": "09009623952450601285"
     },
     "user_tz": -330
    },
    "id": "_9DMLUNAgdJb",
    "papermill": {
     "duration": 0.30141,
     "end_time": "2025-06-10T12:58:41.397558",
     "exception": false,
     "start_time": "2025-06-10T12:58:41.096148",
     "status": "completed"
    },
    "tags": []
   },
   "outputs": [],
   "source": [
    "from sklearn.linear_model import LogisticRegression\n",
    "from sklearn.tree import DecisionTreeClassifier"
   ]
  },
  {
   "cell_type": "code",
   "execution_count": 8,
   "id": "c0b65a25",
   "metadata": {
    "execution": {
     "iopub.execute_input": "2025-06-10T12:58:41.409473Z",
     "iopub.status.busy": "2025-06-10T12:58:41.409156Z",
     "iopub.status.idle": "2025-06-10T12:58:41.413615Z",
     "shell.execute_reply": "2025-06-10T12:58:41.412404Z"
    },
    "executionInfo": {
     "elapsed": 3,
     "status": "ok",
     "timestamp": 1736752462928,
     "user": {
      "displayName": "Vennela Varshini Anasoori",
      "userId": "09009623952450601285"
     },
     "user_tz": -330
    },
    "id": "pTKgQkFEgdJb",
    "papermill": {
     "duration": 0.012248,
     "end_time": "2025-06-10T12:58:41.415278",
     "exception": false,
     "start_time": "2025-06-10T12:58:41.403030",
     "status": "completed"
    },
    "tags": []
   },
   "outputs": [],
   "source": [
    "clf1 = LogisticRegression()\n",
    "clf2 = DecisionTreeClassifier()"
   ]
  },
  {
   "cell_type": "code",
   "execution_count": 9,
   "id": "bf4d9491",
   "metadata": {
    "execution": {
     "iopub.execute_input": "2025-06-10T12:58:41.426852Z",
     "iopub.status.busy": "2025-06-10T12:58:41.426470Z",
     "iopub.status.idle": "2025-06-10T12:58:41.515135Z",
     "shell.execute_reply": "2025-06-10T12:58:41.513857Z"
    },
    "executionInfo": {
     "elapsed": 20,
     "status": "ok",
     "timestamp": 1736752463456,
     "user": {
      "displayName": "Vennela Varshini Anasoori",
      "userId": "09009623952450601285"
     },
     "user_tz": -330
    },
    "id": "K_a6DQdRgdJb",
    "outputId": "66040034-1cf5-40bc-f875-996382594b5d",
    "papermill": {
     "duration": 0.096475,
     "end_time": "2025-06-10T12:58:41.516991",
     "exception": false,
     "start_time": "2025-06-10T12:58:41.420516",
     "status": "completed"
    },
    "tags": []
   },
   "outputs": [
    {
     "name": "stderr",
     "output_type": "stream",
     "text": [
      "/usr/local/lib/python3.10/dist-packages/sklearn/linear_model/_logistic.py:458: ConvergenceWarning: lbfgs failed to converge (status=1):\n",
      "STOP: TOTAL NO. of ITERATIONS REACHED LIMIT.\n",
      "\n",
      "Increase the number of iterations (max_iter) or scale the data as shown in:\n",
      "    https://scikit-learn.org/stable/modules/preprocessing.html\n",
      "Please also refer to the documentation for alternative solver options:\n",
      "    https://scikit-learn.org/stable/modules/linear_model.html#logistic-regression\n",
      "  n_iter_i = _check_optimize_result(\n"
     ]
    },
    {
     "data": {
      "text/html": [
       "<style>#sk-container-id-1 {color: black;background-color: white;}#sk-container-id-1 pre{padding: 0;}#sk-container-id-1 div.sk-toggleable {background-color: white;}#sk-container-id-1 label.sk-toggleable__label {cursor: pointer;display: block;width: 100%;margin-bottom: 0;padding: 0.3em;box-sizing: border-box;text-align: center;}#sk-container-id-1 label.sk-toggleable__label-arrow:before {content: \"▸\";float: left;margin-right: 0.25em;color: #696969;}#sk-container-id-1 label.sk-toggleable__label-arrow:hover:before {color: black;}#sk-container-id-1 div.sk-estimator:hover label.sk-toggleable__label-arrow:before {color: black;}#sk-container-id-1 div.sk-toggleable__content {max-height: 0;max-width: 0;overflow: hidden;text-align: left;background-color: #f0f8ff;}#sk-container-id-1 div.sk-toggleable__content pre {margin: 0.2em;color: black;border-radius: 0.25em;background-color: #f0f8ff;}#sk-container-id-1 input.sk-toggleable__control:checked~div.sk-toggleable__content {max-height: 200px;max-width: 100%;overflow: auto;}#sk-container-id-1 input.sk-toggleable__control:checked~label.sk-toggleable__label-arrow:before {content: \"▾\";}#sk-container-id-1 div.sk-estimator input.sk-toggleable__control:checked~label.sk-toggleable__label {background-color: #d4ebff;}#sk-container-id-1 div.sk-label input.sk-toggleable__control:checked~label.sk-toggleable__label {background-color: #d4ebff;}#sk-container-id-1 input.sk-hidden--visually {border: 0;clip: rect(1px 1px 1px 1px);clip: rect(1px, 1px, 1px, 1px);height: 1px;margin: -1px;overflow: hidden;padding: 0;position: absolute;width: 1px;}#sk-container-id-1 div.sk-estimator {font-family: monospace;background-color: #f0f8ff;border: 1px dotted black;border-radius: 0.25em;box-sizing: border-box;margin-bottom: 0.5em;}#sk-container-id-1 div.sk-estimator:hover {background-color: #d4ebff;}#sk-container-id-1 div.sk-parallel-item::after {content: \"\";width: 100%;border-bottom: 1px solid gray;flex-grow: 1;}#sk-container-id-1 div.sk-label:hover label.sk-toggleable__label {background-color: #d4ebff;}#sk-container-id-1 div.sk-serial::before {content: \"\";position: absolute;border-left: 1px solid gray;box-sizing: border-box;top: 0;bottom: 0;left: 50%;z-index: 0;}#sk-container-id-1 div.sk-serial {display: flex;flex-direction: column;align-items: center;background-color: white;padding-right: 0.2em;padding-left: 0.2em;position: relative;}#sk-container-id-1 div.sk-item {position: relative;z-index: 1;}#sk-container-id-1 div.sk-parallel {display: flex;align-items: stretch;justify-content: center;background-color: white;position: relative;}#sk-container-id-1 div.sk-item::before, #sk-container-id-1 div.sk-parallel-item::before {content: \"\";position: absolute;border-left: 1px solid gray;box-sizing: border-box;top: 0;bottom: 0;left: 50%;z-index: -1;}#sk-container-id-1 div.sk-parallel-item {display: flex;flex-direction: column;z-index: 1;position: relative;background-color: white;}#sk-container-id-1 div.sk-parallel-item:first-child::after {align-self: flex-end;width: 50%;}#sk-container-id-1 div.sk-parallel-item:last-child::after {align-self: flex-start;width: 50%;}#sk-container-id-1 div.sk-parallel-item:only-child::after {width: 0;}#sk-container-id-1 div.sk-dashed-wrapped {border: 1px dashed gray;margin: 0 0.4em 0.5em 0.4em;box-sizing: border-box;padding-bottom: 0.4em;background-color: white;}#sk-container-id-1 div.sk-label label {font-family: monospace;font-weight: bold;display: inline-block;line-height: 1.2em;}#sk-container-id-1 div.sk-label-container {text-align: center;}#sk-container-id-1 div.sk-container {/* jupyter's `normalize.less` sets `[hidden] { display: none; }` but bootstrap.min.css set `[hidden] { display: none !important; }` so we also need the `!important` here to be able to override the default hidden behavior on the sphinx rendered scikit-learn.org. See: https://github.com/scikit-learn/scikit-learn/issues/21755 */display: inline-block !important;position: relative;}#sk-container-id-1 div.sk-text-repr-fallback {display: none;}</style><div id=\"sk-container-id-1\" class=\"sk-top-container\"><div class=\"sk-text-repr-fallback\"><pre>DecisionTreeClassifier()</pre><b>In a Jupyter environment, please rerun this cell to show the HTML representation or trust the notebook. <br />On GitHub, the HTML representation is unable to render, please try loading this page with nbviewer.org.</b></div><div class=\"sk-container\" hidden><div class=\"sk-item\"><div class=\"sk-estimator sk-toggleable\"><input class=\"sk-toggleable__control sk-hidden--visually\" id=\"sk-estimator-id-1\" type=\"checkbox\" checked><label for=\"sk-estimator-id-1\" class=\"sk-toggleable__label sk-toggleable__label-arrow\">DecisionTreeClassifier</label><div class=\"sk-toggleable__content\"><pre>DecisionTreeClassifier()</pre></div></div></div></div></div>"
      ],
      "text/plain": [
       "DecisionTreeClassifier()"
      ]
     },
     "execution_count": 9,
     "metadata": {},
     "output_type": "execute_result"
    }
   ],
   "source": [
    "clf1.fit(X_train,y_train)\n",
    "clf2.fit(X_train,y_train)"
   ]
  },
  {
   "cell_type": "code",
   "execution_count": 10,
   "id": "265bc63a",
   "metadata": {
    "execution": {
     "iopub.execute_input": "2025-06-10T12:58:41.536708Z",
     "iopub.status.busy": "2025-06-10T12:58:41.536161Z",
     "iopub.status.idle": "2025-06-10T12:58:41.545082Z",
     "shell.execute_reply": "2025-06-10T12:58:41.543977Z"
    },
    "executionInfo": {
     "elapsed": 484,
     "status": "ok",
     "timestamp": 1736752466738,
     "user": {
      "displayName": "Vennela Varshini Anasoori",
      "userId": "09009623952450601285"
     },
     "user_tz": -330
    },
    "id": "oltzcSxKgdJc",
    "papermill": {
     "duration": 0.020324,
     "end_time": "2025-06-10T12:58:41.546903",
     "exception": false,
     "start_time": "2025-06-10T12:58:41.526579",
     "status": "completed"
    },
    "tags": []
   },
   "outputs": [],
   "source": [
    "y_pred1 = clf1.predict(X_test)\n",
    "y_pred2 = clf2.predict(X_test)"
   ]
  },
  {
   "cell_type": "code",
   "execution_count": 11,
   "id": "8bb234c6",
   "metadata": {
    "execution": {
     "iopub.execute_input": "2025-06-10T12:58:41.559848Z",
     "iopub.status.busy": "2025-06-10T12:58:41.559463Z",
     "iopub.status.idle": "2025-06-10T12:58:41.567223Z",
     "shell.execute_reply": "2025-06-10T12:58:41.566130Z"
    },
    "executionInfo": {
     "elapsed": 9,
     "status": "ok",
     "timestamp": 1736752468425,
     "user": {
      "displayName": "Vennela Varshini Anasoori",
      "userId": "09009623952450601285"
     },
     "user_tz": -330
    },
    "id": "4ZBwXRyzgdJc",
    "outputId": "93997193-61f5-4800-a497-0f77b2df7c03",
    "papermill": {
     "duration": 0.015906,
     "end_time": "2025-06-10T12:58:41.568830",
     "exception": false,
     "start_time": "2025-06-10T12:58:41.552924",
     "status": "completed"
    },
    "tags": []
   },
   "outputs": [
    {
     "name": "stdout",
     "output_type": "stream",
     "text": [
      "Accuracy of Logistic Regression 1.0\n",
      "Accuracy of Decision Trees 0.9666666666666667\n"
     ]
    }
   ],
   "source": [
    "from sklearn.metrics import accuracy_score,confusion_matrix\n",
    "print(\"Accuracy of Logistic Regression\",accuracy_score(y_test,y_pred1))\n",
    "print(\"Accuracy of Decision Trees\",accuracy_score(y_test,y_pred2))"
   ]
  },
  {
   "cell_type": "code",
   "execution_count": 12,
   "id": "766def4c",
   "metadata": {
    "execution": {
     "iopub.execute_input": "2025-06-10T12:58:41.581639Z",
     "iopub.status.busy": "2025-06-10T12:58:41.581309Z",
     "iopub.status.idle": "2025-06-10T12:58:41.593580Z",
     "shell.execute_reply": "2025-06-10T12:58:41.592553Z"
    },
    "executionInfo": {
     "elapsed": 571,
     "status": "ok",
     "timestamp": 1736752481413,
     "user": {
      "displayName": "Vennela Varshini Anasoori",
      "userId": "09009623952450601285"
     },
     "user_tz": -330
    },
    "id": "YlOCCpeGgdJd",
    "outputId": "a7e8ab68-9b31-4ede-ee6b-1318b05977ef",
    "papermill": {
     "duration": 0.020545,
     "end_time": "2025-06-10T12:58:41.595132",
     "exception": false,
     "start_time": "2025-06-10T12:58:41.574587",
     "status": "completed"
    },
    "tags": []
   },
   "outputs": [
    {
     "name": "stdout",
     "output_type": "stream",
     "text": [
      "Logistic Regression Confusion Matrix\n",
      "\n"
     ]
    },
    {
     "data": {
      "text/html": [
       "<div>\n",
       "<style scoped>\n",
       "    .dataframe tbody tr th:only-of-type {\n",
       "        vertical-align: middle;\n",
       "    }\n",
       "\n",
       "    .dataframe tbody tr th {\n",
       "        vertical-align: top;\n",
       "    }\n",
       "\n",
       "    .dataframe thead th {\n",
       "        text-align: right;\n",
       "    }\n",
       "</style>\n",
       "<table border=\"1\" class=\"dataframe\">\n",
       "  <thead>\n",
       "    <tr style=\"text-align: right;\">\n",
       "      <th></th>\n",
       "      <th>0</th>\n",
       "      <th>1</th>\n",
       "      <th>2</th>\n",
       "    </tr>\n",
       "  </thead>\n",
       "  <tbody>\n",
       "    <tr>\n",
       "      <th>0</th>\n",
       "      <td>11</td>\n",
       "      <td>0</td>\n",
       "      <td>0</td>\n",
       "    </tr>\n",
       "    <tr>\n",
       "      <th>1</th>\n",
       "      <td>0</td>\n",
       "      <td>13</td>\n",
       "      <td>0</td>\n",
       "    </tr>\n",
       "    <tr>\n",
       "      <th>2</th>\n",
       "      <td>0</td>\n",
       "      <td>0</td>\n",
       "      <td>6</td>\n",
       "    </tr>\n",
       "  </tbody>\n",
       "</table>\n",
       "</div>"
      ],
      "text/plain": [
       "    0   1  2\n",
       "0  11   0  0\n",
       "1   0  13  0\n",
       "2   0   0  6"
      ]
     },
     "execution_count": 12,
     "metadata": {},
     "output_type": "execute_result"
    }
   ],
   "source": [
    "print(\"Logistic Regression Confusion Matrix\\n\")\n",
    "pd.DataFrame(confusion_matrix(y_test,y_pred1),columns=list(range(0,3)))"
   ]
  },
  {
   "cell_type": "code",
   "execution_count": 13,
   "id": "4369c9db",
   "metadata": {
    "execution": {
     "iopub.execute_input": "2025-06-10T12:58:41.607836Z",
     "iopub.status.busy": "2025-06-10T12:58:41.607493Z",
     "iopub.status.idle": "2025-06-10T12:58:41.618229Z",
     "shell.execute_reply": "2025-06-10T12:58:41.617190Z"
    },
    "executionInfo": {
     "elapsed": 745,
     "status": "ok",
     "timestamp": 1736752482903,
     "user": {
      "displayName": "Vennela Varshini Anasoori",
      "userId": "09009623952450601285"
     },
     "user_tz": -330
    },
    "id": "Gb6X3_95gdJd",
    "outputId": "3fab84ed-9a0b-4f53-f53c-e4a0fb41b5f9",
    "papermill": {
     "duration": 0.018776,
     "end_time": "2025-06-10T12:58:41.619733",
     "exception": false,
     "start_time": "2025-06-10T12:58:41.600957",
     "status": "completed"
    },
    "tags": []
   },
   "outputs": [
    {
     "name": "stdout",
     "output_type": "stream",
     "text": [
      "Decision Tree Confusion Matrix\n",
      "\n"
     ]
    },
    {
     "data": {
      "text/html": [
       "<div>\n",
       "<style scoped>\n",
       "    .dataframe tbody tr th:only-of-type {\n",
       "        vertical-align: middle;\n",
       "    }\n",
       "\n",
       "    .dataframe tbody tr th {\n",
       "        vertical-align: top;\n",
       "    }\n",
       "\n",
       "    .dataframe thead th {\n",
       "        text-align: right;\n",
       "    }\n",
       "</style>\n",
       "<table border=\"1\" class=\"dataframe\">\n",
       "  <thead>\n",
       "    <tr style=\"text-align: right;\">\n",
       "      <th></th>\n",
       "      <th>0</th>\n",
       "      <th>1</th>\n",
       "      <th>2</th>\n",
       "    </tr>\n",
       "  </thead>\n",
       "  <tbody>\n",
       "    <tr>\n",
       "      <th>0</th>\n",
       "      <td>11</td>\n",
       "      <td>0</td>\n",
       "      <td>0</td>\n",
       "    </tr>\n",
       "    <tr>\n",
       "      <th>1</th>\n",
       "      <td>0</td>\n",
       "      <td>12</td>\n",
       "      <td>1</td>\n",
       "    </tr>\n",
       "    <tr>\n",
       "      <th>2</th>\n",
       "      <td>0</td>\n",
       "      <td>0</td>\n",
       "      <td>6</td>\n",
       "    </tr>\n",
       "  </tbody>\n",
       "</table>\n",
       "</div>"
      ],
      "text/plain": [
       "    0   1  2\n",
       "0  11   0  0\n",
       "1   0  12  1\n",
       "2   0   0  6"
      ]
     },
     "execution_count": 13,
     "metadata": {},
     "output_type": "execute_result"
    }
   ],
   "source": [
    "print(\"Decision Tree Confusion Matrix\\n\")\n",
    "pd.DataFrame(confusion_matrix(y_test,y_pred2),columns=list(range(0,3)))"
   ]
  },
  {
   "cell_type": "code",
   "execution_count": 14,
   "id": "c40188f9",
   "metadata": {
    "execution": {
     "iopub.execute_input": "2025-06-10T12:58:41.633240Z",
     "iopub.status.busy": "2025-06-10T12:58:41.632884Z",
     "iopub.status.idle": "2025-06-10T12:58:41.648231Z",
     "shell.execute_reply": "2025-06-10T12:58:41.646950Z"
    },
    "id": "6rSC0a9fgdJd",
    "outputId": "069d0aea-c20d-4f14-a24a-7838a9efba45",
    "papermill": {
     "duration": 0.024579,
     "end_time": "2025-06-10T12:58:41.650451",
     "exception": false,
     "start_time": "2025-06-10T12:58:41.625872",
     "status": "completed"
    },
    "tags": []
   },
   "outputs": [
    {
     "data": {
      "text/html": [
       "<div>\n",
       "<style scoped>\n",
       "    .dataframe tbody tr th:only-of-type {\n",
       "        vertical-align: middle;\n",
       "    }\n",
       "\n",
       "    .dataframe tbody tr th {\n",
       "        vertical-align: top;\n",
       "    }\n",
       "\n",
       "    .dataframe thead th {\n",
       "        text-align: right;\n",
       "    }\n",
       "</style>\n",
       "<table border=\"1\" class=\"dataframe\">\n",
       "  <thead>\n",
       "    <tr style=\"text-align: right;\">\n",
       "      <th></th>\n",
       "      <th>Actual Label</th>\n",
       "      <th>Logistic Regression Prediction</th>\n",
       "      <th>Decision Tree Prediction</th>\n",
       "    </tr>\n",
       "  </thead>\n",
       "  <tbody>\n",
       "    <tr>\n",
       "      <th>92</th>\n",
       "      <td>1</td>\n",
       "      <td>1</td>\n",
       "      <td>1</td>\n",
       "    </tr>\n",
       "    <tr>\n",
       "      <th>84</th>\n",
       "      <td>1</td>\n",
       "      <td>1</td>\n",
       "      <td>1</td>\n",
       "    </tr>\n",
       "    <tr>\n",
       "      <th>90</th>\n",
       "      <td>1</td>\n",
       "      <td>1</td>\n",
       "      <td>1</td>\n",
       "    </tr>\n",
       "    <tr>\n",
       "      <th>33</th>\n",
       "      <td>0</td>\n",
       "      <td>0</td>\n",
       "      <td>0</td>\n",
       "    </tr>\n",
       "    <tr>\n",
       "      <th>98</th>\n",
       "      <td>1</td>\n",
       "      <td>1</td>\n",
       "      <td>1</td>\n",
       "    </tr>\n",
       "    <tr>\n",
       "      <th>31</th>\n",
       "      <td>0</td>\n",
       "      <td>0</td>\n",
       "      <td>0</td>\n",
       "    </tr>\n",
       "    <tr>\n",
       "      <th>44</th>\n",
       "      <td>0</td>\n",
       "      <td>0</td>\n",
       "      <td>0</td>\n",
       "    </tr>\n",
       "    <tr>\n",
       "      <th>102</th>\n",
       "      <td>2</td>\n",
       "      <td>2</td>\n",
       "      <td>2</td>\n",
       "    </tr>\n",
       "    <tr>\n",
       "      <th>120</th>\n",
       "      <td>2</td>\n",
       "      <td>2</td>\n",
       "      <td>2</td>\n",
       "    </tr>\n",
       "    <tr>\n",
       "      <th>131</th>\n",
       "      <td>2</td>\n",
       "      <td>2</td>\n",
       "      <td>2</td>\n",
       "    </tr>\n",
       "  </tbody>\n",
       "</table>\n",
       "</div>"
      ],
      "text/plain": [
       "     Actual Label  Logistic Regression Prediction  Decision Tree Prediction\n",
       "92              1                               1                         1\n",
       "84              1                               1                         1\n",
       "90              1                               1                         1\n",
       "33              0                               0                         0\n",
       "98              1                               1                         1\n",
       "31              0                               0                         0\n",
       "44              0                               0                         0\n",
       "102             2                               2                         2\n",
       "120             2                               2                         2\n",
       "131             2                               2                         2"
      ]
     },
     "execution_count": 14,
     "metadata": {},
     "output_type": "execute_result"
    }
   ],
   "source": [
    "result = pd.DataFrame()\n",
    "result['Actual Label'] = y_test\n",
    "result['Logistic Regression Prediction'] = y_pred1\n",
    "result['Decision Tree Prediction'] = y_pred2\n",
    "result.sample(10)"
   ]
  },
  {
   "cell_type": "code",
   "execution_count": 15,
   "id": "2380b2c5",
   "metadata": {
    "execution": {
     "iopub.execute_input": "2025-06-10T12:58:41.669464Z",
     "iopub.status.busy": "2025-06-10T12:58:41.669131Z",
     "iopub.status.idle": "2025-06-10T12:58:41.679507Z",
     "shell.execute_reply": "2025-06-10T12:58:41.678477Z"
    },
    "id": "yQTrNsIZgdJe",
    "outputId": "435b1c38-cb8b-4f51-9015-0ef84cb218df",
    "papermill": {
     "duration": 0.020151,
     "end_time": "2025-06-10T12:58:41.681166",
     "exception": false,
     "start_time": "2025-06-10T12:58:41.661015",
     "status": "completed"
    },
    "tags": []
   },
   "outputs": [
    {
     "data": {
      "text/plain": [
       "array([1., 1., 1.])"
      ]
     },
     "execution_count": 15,
     "metadata": {},
     "output_type": "execute_result"
    }
   ],
   "source": [
    "from sklearn.metrics import precision_score,recall_score\n",
    "precision_score(y_test,y_pred1,average=None)"
   ]
  },
  {
   "cell_type": "code",
   "execution_count": 16,
   "id": "e62ed1fe",
   "metadata": {
    "execution": {
     "iopub.execute_input": "2025-06-10T12:58:41.697566Z",
     "iopub.status.busy": "2025-06-10T12:58:41.697242Z",
     "iopub.status.idle": "2025-06-10T12:58:41.705921Z",
     "shell.execute_reply": "2025-06-10T12:58:41.704956Z"
    },
    "id": "jYQoM3KKgdJe",
    "outputId": "b1a01343-6824-4a87-aeb1-00a80c68ebb1",
    "papermill": {
     "duration": 0.019698,
     "end_time": "2025-06-10T12:58:41.707482",
     "exception": false,
     "start_time": "2025-06-10T12:58:41.687784",
     "status": "completed"
    },
    "tags": []
   },
   "outputs": [
    {
     "data": {
      "text/plain": [
       "array([1., 1., 1.])"
      ]
     },
     "execution_count": 16,
     "metadata": {},
     "output_type": "execute_result"
    }
   ],
   "source": [
    "recall_score(y_test,y_pred1,average=None)"
   ]
  },
  {
   "cell_type": "code",
   "execution_count": 17,
   "id": "16571e40",
   "metadata": {
    "execution": {
     "iopub.execute_input": "2025-06-10T12:58:41.721827Z",
     "iopub.status.busy": "2025-06-10T12:58:41.721423Z",
     "iopub.status.idle": "2025-06-10T12:58:41.730812Z",
     "shell.execute_reply": "2025-06-10T12:58:41.729878Z"
    },
    "id": "IEeIXoMegdJe",
    "papermill": {
     "duration": 0.018241,
     "end_time": "2025-06-10T12:58:41.732429",
     "exception": false,
     "start_time": "2025-06-10T12:58:41.714188",
     "status": "completed"
    },
    "tags": []
   },
   "outputs": [
    {
     "data": {
      "text/plain": [
       "array([1.        , 1.        , 0.85714286])"
      ]
     },
     "execution_count": 17,
     "metadata": {},
     "output_type": "execute_result"
    }
   ],
   "source": [
    "precision_score(y_test,y_pred2,average=None)"
   ]
  },
  {
   "cell_type": "code",
   "execution_count": 18,
   "id": "3e9c9eb1",
   "metadata": {
    "execution": {
     "iopub.execute_input": "2025-06-10T12:58:41.746957Z",
     "iopub.status.busy": "2025-06-10T12:58:41.746518Z",
     "iopub.status.idle": "2025-06-10T12:58:41.755784Z",
     "shell.execute_reply": "2025-06-10T12:58:41.754847Z"
    },
    "papermill": {
     "duration": 0.018353,
     "end_time": "2025-06-10T12:58:41.757457",
     "exception": false,
     "start_time": "2025-06-10T12:58:41.739104",
     "status": "completed"
    },
    "tags": []
   },
   "outputs": [
    {
     "data": {
      "text/plain": [
       "array([1.        , 0.92307692, 1.        ])"
      ]
     },
     "execution_count": 18,
     "metadata": {},
     "output_type": "execute_result"
    }
   ],
   "source": [
    "recall_score(y_test,y_pred2,average=None)"
   ]
  }
 ],
 "metadata": {
  "colab": {
   "provenance": []
  },
  "kaggle": {
   "accelerator": "none",
   "dataSources": [
    {
     "datasetId": 4247,
     "sourceId": 6570,
     "sourceType": "datasetVersion"
    }
   ],
   "dockerImageVersionId": 30918,
   "isGpuEnabled": false,
   "isInternetEnabled": false,
   "language": "python",
   "sourceType": "notebook"
  },
  "kernelspec": {
   "display_name": "Python 3",
   "language": "python",
   "name": "python3"
  },
  "language_info": {
   "codemirror_mode": {
    "name": "ipython",
    "version": 3
   },
   "file_extension": ".py",
   "mimetype": "text/x-python",
   "name": "python",
   "nbconvert_exporter": "python",
   "pygments_lexer": "ipython3",
   "version": "3.10.12"
  },
  "papermill": {
   "default_parameters": {},
   "duration": 6.978302,
   "end_time": "2025-06-10T12:58:42.484906",
   "environment_variables": {},
   "exception": null,
   "input_path": "__notebook__.ipynb",
   "output_path": "__notebook__.ipynb",
   "parameters": {},
   "start_time": "2025-06-10T12:58:35.506604",
   "version": "2.6.0"
  }
 },
 "nbformat": 4,
 "nbformat_minor": 5
}
